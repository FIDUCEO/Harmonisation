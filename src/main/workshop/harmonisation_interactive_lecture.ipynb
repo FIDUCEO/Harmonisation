{
 "cells": [
  {
   "cell_type": "markdown",
   "metadata": {
    "collapsed": true
   },
   "source": [
    "# Interactive Lecture: Comparison of Fitting Algorithms\n",
    "\n",
    "In this exercise we will compare the effectiveness of two different fitting algorithms, classic *Least Squares* and a more rigorous *Orthogonal Distance Regression* approach.\n",
    "\n",
    "| It is structured as follows:                                                             |\n",
    "| ---------------------------------------------------------------------------------------- |\n",
    "|1. Define Example Measurement                                                             |\n",
    "|2. Define Test *True* Dataset                                                             |\n",
    "|3. Simulate *Measured* Dataset                                                            |\n",
    "|4. Fit the data with two approaches - *Least Squares* and *Othogonal Distance Regression* |\n",
    "|5. How do the fitting methods compare?                                                    |\n",
    "| *Extension Exercises* |\n",
    "\n",
    "NB: To download the non-interactive, completed version of this notebook follow this [link](https://www.dropbox.com/s/zw8ahlggabjgsxu/harmonisation_interactive_lecture_complete.html?dl=0)"
   ]
  },
  {
   "cell_type": "markdown",
   "metadata": {},
   "source": [
    "**``First import required python modules``**\n",
    "\n",
    "To run a Python cell in the iPython notebook select it and press [shift] + [Enter]"
   ]
  },
  {
   "cell_type": "code",
   "execution_count": null,
   "metadata": {
    "collapsed": true
   },
   "outputs": [],
   "source": [
    "%matplotlib notebook\n",
    "\n",
    "import numpy as np\n",
    "import matplotlib.pylab as plt\n",
    "from scipy.optimize import curve_fit    # scipy least squares implementation\n",
    "from scipy.odr import *                 # scipy othogonal-distance-regression implementation"
   ]
  },
  {
   "cell_type": "markdown",
   "metadata": {},
   "source": [
    "---\n"
   ]
  },
  {
   "cell_type": "markdown",
   "metadata": {},
   "source": [
    "## 1. Define Example Measurement\n",
    "\n",
    "Take a simple straight-line measurement function as an example,\n",
    "\n",
    "$y = a~x + b$\n",
    "\n",
    "where,\n",
    "* y is the measurand\n",
    "* x is it the observed quantity\n",
    "* a, b are the calibration parameters\n",
    "\n",
    "In this example set,\n",
    "\n",
    "* a = 1.0\n",
    "* b = 0.0"
   ]
  },
  {
   "cell_type": "code",
   "execution_count": null,
   "metadata": {
    "collapsed": true
   },
   "outputs": [],
   "source": [
    "# Set true calibration parameters\n",
    "a_true = 1.0\n",
    "b_true = 0.0"
   ]
  },
  {
   "cell_type": "markdown",
   "metadata": {},
   "source": [
    "### ``i. Define measurement function in Python``"
   ]
  },
  {
   "cell_type": "code",
   "execution_count": null,
   "metadata": {
    "collapsed": true
   },
   "outputs": [],
   "source": [
    "def measurement_function(x, a, b):\n",
    "    \"\"\"\n",
    "    Return measurand for straight line measurement function\n",
    "    \n",
    "    :parameters:\n",
    "    x (numpy.ndarray) - measurement observed quantity\n",
    "    a (float) - calibration parameter\n",
    "    b (float) - calibration parameter\n",
    "    \n",
    "    :return:\n",
    "    y - measurement measurand\n",
    "    \"\"\"\n",
    "    \n",
    "    y = a*x + b\n",
    "\n",
    "    return y"
   ]
  },
  {
   "cell_type": "markdown",
   "metadata": {},
   "source": [
    "### ``ii. Test our measurement function``\n"
   ]
  },
  {
   "cell_type": "code",
   "execution_count": null,
   "metadata": {
    "collapsed": false
   },
   "outputs": [],
   "source": [
    "# Choose test measurement observed quantity\n",
    "x_test = 2.0\n",
    "\n",
    "# Compute y from test observed quantity\n",
    "y_test = measurement_function(x_test, a_true, b_true)\n",
    "\n",
    "print(\"Input:\")\n",
    "print(\"x =\", x_test)\n",
    "\n",
    "print(\"\\nOutput:\")\n",
    "print(\"y =\", y_test)"
   ]
  },
  {
   "cell_type": "markdown",
   "metadata": {},
   "source": [
    "## 2. Define Test *True* Dataset\n",
    "\n",
    "Define set of true values for $x$ between $0 \\leq x \\leq 1$."
   ]
  },
  {
   "cell_type": "markdown",
   "metadata": {},
   "source": [
    "### ``i. Define dataset``"
   ]
  },
  {
   "cell_type": "code",
   "execution_count": null,
   "metadata": {
    "collapsed": false
   },
   "outputs": [],
   "source": [
    "# Number of measurements\n",
    "n_obs = 100\n",
    "\n",
    "# x values randomly drawn between 0 and 1 (rounded to 2 decimal places)\n",
    "x_true = np.round(np.random.rand(n_obs), decimals=2)\n",
    "\n",
    "# Evaluate y from x values with measurement function\n",
    "y_true = measurement_function(x_true, a_true, b_true)"
   ]
  },
  {
   "cell_type": "markdown",
   "metadata": {},
   "source": [
    "### ``ii. Plot dataset``"
   ]
  },
  {
   "cell_type": "code",
   "execution_count": null,
   "metadata": {
    "collapsed": false
   },
   "outputs": [],
   "source": [
    "# Plot true data\n",
    "plt.figure()\n",
    "plt.plot(x_true, y_true, \"bo\")\n",
    "plt.ylabel(\"$y$\")\n",
    "plt.xlabel(\"$x$\")"
   ]
  },
  {
   "cell_type": "markdown",
   "metadata": {},
   "source": [
    "## 3. Simulate *Measured* Dataset\n",
    "\n",
    "In reality each has an unknown error measurement,\n",
    "\n",
    "$y_{data} = y_{true} + \\epsilon_{y}$\n",
    "\n",
    "$x_{data} = x_{true} + \\epsilon_{x}$\n",
    "\n",
    "In our example lets assume each error is independent for each measurement. So for each mesaurement:\n",
    "\n",
    "* $\\epsilon_x \\in Norm[\\mu=0, \\sigma=u_x]$ -- i.e. $\\epsilon_{x}$ is a draw from the uncertainty distribution of $x$\n",
    "* $\\epsilon_y \\in Norm[\\mu=0, \\sigma=u_y]$ -- i.e. $\\epsilon_{y}$ is a draw from the uncertainty distribution of $y$\n",
    "\n",
    "\n",
    "Set uncertainty for each measurement to be:\n",
    "\n",
    "* $u(x) = 0.05$\n",
    "* $u(y) = 0.05$"
   ]
  },
  {
   "cell_type": "code",
   "execution_count": null,
   "metadata": {
    "collapsed": false
   },
   "outputs": [],
   "source": [
    "# Define uncertainties\n",
    "u_x = np.full(n_obs, 0.05)\n",
    "u_y = np.full(n_obs, 0.05)\n",
    "\n",
    "# Print uncertainty for first 10 observations\n",
    "print(\"u_x:\", u_x[:10])\n",
    "print(\"u_y:\", u_x[:10])"
   ]
  },
  {
   "cell_type": "markdown",
   "metadata": {},
   "source": [
    "### ``i. Write a function to add errors to our data``"
   ]
  },
  {
   "cell_type": "code",
   "execution_count": null,
   "metadata": {
    "collapsed": true
   },
   "outputs": [],
   "source": [
    "def add_errors(data, uncertainty):\n",
    "    \"\"\"\n",
    "    Return array with independent random gaussian error each element\n",
    "    \n",
    "    :parameters:\n",
    "    data (numpy.ndarray) - input array\n",
    "    uncertainty (float) - random error gaussian standard deviation\n",
    "    \n",
    "    :return:\n",
    "    data_error (numpy.ndarray) - input array + independent random gaussian errors\n",
    "    \"\"\"\n",
    "    \n",
    "    # Determine errors for each true value\n",
    "    errors = np.random.normal(loc=0, scale=uncertainty, size=data.shape[0])\n",
    "    \n",
    "    # Add error to true data to\n",
    "    data_error = data + errors\n",
    "    \n",
    "    return data_error"
   ]
  },
  {
   "cell_type": "markdown",
   "metadata": {},
   "source": [
    "### ``ii. Simulate set of measured data by adding errors to true values``"
   ]
  },
  {
   "cell_type": "code",
   "execution_count": null,
   "metadata": {
    "collapsed": true
   },
   "outputs": [],
   "source": [
    "# Add errors to true data to simulate set of \"measured data\"\n",
    "x_data = add_errors(x_true, u_x)\n",
    "y_data = add_errors(y_true, u_y)"
   ]
  },
  {
   "cell_type": "markdown",
   "metadata": {},
   "source": [
    "### ``iii. Plot measured dataset``"
   ]
  },
  {
   "cell_type": "code",
   "execution_count": null,
   "metadata": {
    "collapsed": false
   },
   "outputs": [],
   "source": [
    "# Plot results\n",
    "plt.figure()\n",
    "\n",
    "# a. True data line\n",
    "plt.plot(x_true, y_true, 'blue', label=\"True\")\n",
    "\n",
    "# b. Plot measured data points (with errorbars)\n",
    "plt.plot(x_data, y_data, \"ro\", label=\"Data\")\n",
    "\n",
    "plt.ylabel(\"$y$\")\n",
    "plt.xlabel(\"$x$\")\n",
    "plt.legend(loc=4)"
   ]
  },
  {
   "cell_type": "markdown",
   "metadata": {},
   "source": [
    "## 4. Fitting the Data\n",
    "\n",
    "In this section we will attempt to fit the measured data we produced in *Section 3* with two difference approaches, standard *Least Squares* (LSQ) or a more rigorous *Orthogonal Distance Regression* (ODR) approach."
   ]
  },
  {
   "cell_type": "markdown",
   "metadata": {},
   "source": [
    "**a. Least Squares (LSQ)**\n",
    "\n",
    "*Least Squares* optimisation fits based on weighting of uncertainties in $y$ dimension only, i.e,"
   ]
  },
  {
   "cell_type": "code",
   "execution_count": null,
   "metadata": {
    "collapsed": false
   },
   "outputs": [],
   "source": [
    "# Plot LSQ uncertainty picture\n",
    "plt.figure()\n",
    "\n",
    "# a. True data line\n",
    "plt.plot(x_true, y_true, 'blue', label=\"True\")\n",
    "\n",
    "# b. Plot measured data points (with y errorbars)\n",
    "plt.errorbar(x=x_data, y=y_data, yerr=u_y, fmt=\"ro\", ecolor='black', label=\"Data\")\n",
    "\n",
    "plt.ylabel(\"$y$\")\n",
    "plt.xlabel(\"$x$\")\n",
    "plt.legend(loc=4)"
   ]
  },
  {
   "cell_type": "markdown",
   "metadata": {},
   "source": [
    "### ``i. Define function to perform Least Squares fitting.``"
   ]
  },
  {
   "cell_type": "code",
   "execution_count": null,
   "metadata": {
    "collapsed": true
   },
   "outputs": [],
   "source": [
    "# Use scipy LSQ implementation curve_fit\n",
    "\n",
    "def fit_lsq(measurement_function, x_data, y_data, u_y, p_initial):\n",
    "    \"\"\"\n",
    "    Return optimised parameters for a given measurement function and input data\n",
    "    \n",
    "    :parameters:\n",
    "    measurement_function (func) - measurement function\n",
    "    x_data (numpy.ndarray) - input x data\n",
    "    y_data (numpy.ndarray) - input y data\n",
    "    u_y (float) - y data uncertainty\n",
    "    p_initial (list) - intial parameter estimates\n",
    "    \n",
    "    :return:\n",
    "    p_est (list) - optimised parameter estimates\n",
    "    p_cov (numpy.ndarray) - parameter covariance matrix\n",
    "    \"\"\"\n",
    "\n",
    "    p_est, p_cov = curve_fit(measurement_function, x_data, y_data, p_initial, u_y)\n",
    "\n",
    "    return p_est, p_cov"
   ]
  },
  {
   "cell_type": "markdown",
   "metadata": {},
   "source": [
    "### ``ii. Run optimisation``"
   ]
  },
  {
   "cell_type": "code",
   "execution_count": null,
   "metadata": {
    "collapsed": false
   },
   "outputs": [],
   "source": [
    "# Run optimisation\n",
    "p_lsq, cov_lsq = fit_lsq(measurement_function, x_data, y_data, u_y, p_initial=[0.0, 0.0])\n",
    "\n",
    "a_lsq = p_lsq[0]\n",
    "b_lsq = p_lsq[1]\n",
    "\n",
    "# Print result\n",
    "print(\"LSQ Parameter Estimate:\")\n",
    "print(\"a =\", a_lsq)\n",
    "print(\"b =\", b_lsq)\n",
    "print(\"\\nCovariance matrix:\")\n",
    "print(cov_lsq)"
   ]
  },
  {
   "cell_type": "markdown",
   "metadata": {},
   "source": [
    "### ``iii. Plot results``"
   ]
  },
  {
   "cell_type": "code",
   "execution_count": null,
   "metadata": {
    "collapsed": false
   },
   "outputs": [],
   "source": [
    "# Plot results\n",
    "plt.figure()\n",
    "\n",
    "# a. True calibration line\n",
    "plt.plot(x_true, y_true, 'blue', label=\"True\")\n",
    "\n",
    "# b. Plot measured data points\n",
    "plt.errorbar(x=x_data, y=y_data, yerr=u_y, fmt=\"ro\", ecolor=\"black\", label=\"Data\")\n",
    "\n",
    "#c. Plot estimate\n",
    "y_lsq = measurement_function(x_true, a_lsq, b_lsq)\n",
    "plt.plot(x_true, y_lsq, 'orange', label=\"LSQ Fit\")\n",
    "\n",
    "plt.ylabel(\"$y$\")\n",
    "plt.xlabel(\"$x$\")\n",
    "plt.legend(loc=4)"
   ]
  },
  {
   "cell_type": "markdown",
   "metadata": {},
   "source": [
    "**b. Orthogonal Distance Regression (ODR)**\n",
    "\n",
    "*Orthogonal Distance Regression* optimisation methods weight based on uncertainties in *both* the $x$ and $y$ dimension, i.e,"
   ]
  },
  {
   "cell_type": "code",
   "execution_count": null,
   "metadata": {
    "collapsed": false
   },
   "outputs": [],
   "source": [
    "# Plot ODR uncertainty picture\n",
    "plt.figure()\n",
    "\n",
    "# a. True data line\n",
    "plt.plot(x_true, y_true, 'blue', label=\"True\")\n",
    "\n",
    "# b. Plot measured data points (with errorbars)\n",
    "plt.errorbar(x=x_data, xerr=u_x, y=y_data, yerr=u_y, fmt=\"ro\", ecolor='black', label=\"Data\")\n",
    "\n",
    "plt.ylabel(\"$y$\")\n",
    "plt.xlabel(\"$x$\")\n",
    "plt.legend(loc=4)"
   ]
  },
  {
   "cell_type": "markdown",
   "metadata": {},
   "source": [
    "### ``i. Define function to perform Orthogonal Distance Regression fitting``"
   ]
  },
  {
   "cell_type": "code",
   "execution_count": null,
   "metadata": {
    "collapsed": true
   },
   "outputs": [],
   "source": [
    "# Use scipy ODRPACK implementation \n",
    "\n",
    "def fit_odr(measurement_function, x_data, y_data, u_x, u_y, p_initial):\n",
    "    \"\"\"\n",
    "    Return optimised parameters for a given measurement function and input data\n",
    "    \n",
    "    :parameters:\n",
    "    measurement_function (func) - measurement function\n",
    "    x_data (numpy.ndarray) - input x data\n",
    "    y_data (numpy.ndarray) - input y data\n",
    "    u_y (float) - x data uncertainty\n",
    "    u_y (float) - y data uncertainty\n",
    "    p_initial (list) - intial parameter estimates\n",
    "    \n",
    "    :return:\n",
    "    p_est (list) - optimised parameter estimates\n",
    "    p_cov (numpy.ndarray) - parameter covariance matrix\n",
    "    \"\"\"\n",
    "\n",
    "    odr = ODR(RealData(x=x_data, y=y_data, sx=u_x, sy=u_y), Model(measurement_function), beta0=p_initial)\n",
    "    result = odr.run()\n",
    "\n",
    "    p_est = result.beta\n",
    "    p_cov = result.cov_beta\n",
    "\n",
    "    return p_est, p_cov"
   ]
  },
  {
   "cell_type": "markdown",
   "metadata": {},
   "source": [
    "### ``ii. Run optimisation``"
   ]
  },
  {
   "cell_type": "code",
   "execution_count": null,
   "metadata": {
    "collapsed": false
   },
   "outputs": [],
   "source": [
    "# scipy ODRPACK needs a slightly different form of input to the measurement function\n",
    "def measurement_function_odr(p, x):\n",
    "    return p[0] * x + p[1]\n",
    "\n",
    "# Run optimisation\n",
    "p_odr, cov_odr = fit_odr(measurement_function_odr, x_data, y_data, u_x, u_y, p_initial=[0.0, 0.0])\n",
    "a_odr = p_odr[0]\n",
    "b_odr = p_odr[1]\n",
    "\n",
    "# Print result\n",
    "print(\"ODR Parameter Estimate:\")\n",
    "print(\"a =\", a_odr)\n",
    "print(\"b =\", b_odr)\n",
    "print(\"\\nCovariance matrix:\")\n",
    "print(cov_odr)"
   ]
  },
  {
   "cell_type": "markdown",
   "metadata": {},
   "source": [
    "### ``iii. Plot results``"
   ]
  },
  {
   "cell_type": "code",
   "execution_count": null,
   "metadata": {
    "collapsed": false
   },
   "outputs": [],
   "source": [
    "# Plot results\n",
    "plt.figure()\n",
    "\n",
    "# a. True calibration line\n",
    "plt.plot(x_true, y_true, 'blue', label=\"True\")\n",
    "\n",
    "# b. Plot measured data points\n",
    "plt.errorbar(x=x_data, y=y_data, xerr=u_x, yerr=u_y, fmt=\"ro\", ecolor=\"black\", label=\"Data\")\n",
    "\n",
    "#c. Plot ODR estimate\n",
    "y_odr = measurement_function(x_true, a_odr, b_odr)\n",
    "plt.plot(x_true, y_odr, 'orange', label=\"ODR Fit\")\n",
    "\n",
    "plt.ylabel(\"$y$\")\n",
    "plt.xlabel(\"$x$\")\n",
    "plt.legend(loc=4)"
   ]
  },
  {
   "cell_type": "markdown",
   "metadata": {},
   "source": [
    "## 5. How well does each perform\n",
    "\n",
    "Perform Monte Carlo analysis of fitting approaches:\n",
    "1. Generate ``n_trials`` instances of measured data, each with different random errors\n",
    "2. Fit each iteration of with both *Least Squares* and *Othogonal Distance Regression* approaches\n",
    "3. Compare results"
   ]
  },
  {
   "cell_type": "markdown",
   "metadata": {},
   "source": [
    "### ``i. Perform Monte Carlo analysis``"
   ]
  },
  {
   "cell_type": "code",
   "execution_count": null,
   "metadata": {
    "collapsed": true
   },
   "outputs": [],
   "source": [
    "# Define number of trials to perform\n",
    "n_trials = 1000\n",
    "\n",
    "# Initialise arrays to store parameter results \n",
    "a_lsqs = np.zeros(n_trials)\n",
    "b_lsqs = np.zeros(n_trials)\n",
    "\n",
    "a_odrs = np.zeros(n_trials)\n",
    "b_odrs = np.zeros(n_trials)\n",
    "\n",
    "y_lsqs = np.zeros((n_trials, n_obs))\n",
    "y_odrs = np.zeros((n_trials, n_obs))\n",
    "\n",
    "for i in range(n_trials):\n",
    "    \n",
    "    # Add errors to true data to generate set of \"measured data\"\n",
    "    x_data_i = add_errors(x_true, u_x)\n",
    "    y_data_i = add_errors(y_true, u_y)\n",
    "    \n",
    "    # Least squares fitting    \n",
    "    p_lsq_i, cov_lsq_i = fit_lsq(measurement_function, x_data_i, y_data_i, u_y, p_initial=[0.0, 0.0])\n",
    "    a_lsqs[i] = p_lsq_i[0]\n",
    "    b_lsqs[i] = p_lsq_i[1]\n",
    "    y_lsqs[i, :] = measurement_function(x_true, a_lsqs[i], b_lsqs[i])\n",
    "    \n",
    "    # ODR fitting\n",
    "    p_odr_i, cov_odr_i = fit_odr(measurement_function_odr, x_data_i, y_data_i, u_x, u_y, p_initial=[0.0, 0.0])\n",
    "    a_odrs[i] = p_odr_i[0]\n",
    "    b_odrs[i] = p_odr_i[1]\n",
    "    y_odrs[i, :] = measurement_function(x_true, a_odrs[i], b_odrs[i])"
   ]
  },
  {
   "cell_type": "markdown",
   "metadata": {},
   "source": [
    "### ``ii. Plot Outputs``"
   ]
  },
  {
   "cell_type": "code",
   "execution_count": null,
   "metadata": {
    "collapsed": false
   },
   "outputs": [],
   "source": [
    "# Plot results for a parameter\n",
    "plt.figure()\n",
    "\n",
    "# a_lsq estimates\n",
    "plt.subplot(2, 1, 1)\n",
    "plt.hist(a_lsqs-a_true, bins=20)\n",
    "plt.title(\"a_lsq - a_true\")\n",
    "plt.xlim([-0.1, 0.1])\n",
    "\n",
    "# a_odr estimates\n",
    "plt.subplot(2, 1, 2)\n",
    "plt.hist(a_odrs-a_true, bins=20)\n",
    "plt.title(\"a_odr - a_true\")\n",
    "plt.xlim([-0.1, 0.1])"
   ]
  },
  {
   "cell_type": "code",
   "execution_count": null,
   "metadata": {
    "collapsed": false
   },
   "outputs": [],
   "source": [
    "# Plot results for b parameter\n",
    "plt.figure()\n",
    "\n",
    "# b_lsq estimates\n",
    "plt.subplot(2, 1, 1)\n",
    "plt.hist(b_lsqs-b_true, bins=20)\n",
    "plt.title(\"b_lsq - b_true\")\n",
    "plt.xlim([-0.1, 0.1])\n",
    "\n",
    "# b_odr estimates\n",
    "plt.subplot(2, 1, 2)\n",
    "plt.hist(b_odrs-b_true, bins=20)\n",
    "plt.title(\"b_odr - b_true\")\n",
    "plt.xlim([-0.1, 0.1])"
   ]
  },
  {
   "cell_type": "code",
   "execution_count": null,
   "metadata": {
    "collapsed": false
   },
   "outputs": [],
   "source": [
    "# Plot results of impact on a given y\n",
    "plt.figure()\n",
    "\n",
    "# y_lsqs[0] estimates\n",
    "plt.subplot(2, 1, 1)\n",
    "plt.hist(y_lsqs[:,0]-y_true[0], bins=20)\n",
    "plt.title(\"y_lsq[0] - y_true[0]\")\n",
    "plt.xlim([-0.05, 0.05])\n",
    "\n",
    "# y_odrs[0] estimates\n",
    "plt.subplot(2, 1, 2)\n",
    "plt.hist(y_odrs[:,0]-y_true[0], bins=20)\n",
    "plt.title(\"y_odr[0] - y_true[0]\")\n",
    "plt.xlim([-0.05, 0.05])"
   ]
  },
  {
   "cell_type": "markdown",
   "metadata": {
    "collapsed": true
   },
   "source": [
    "---\n",
    "\n",
    "## EXTENSION EXERCISES\n",
    "\n",
    "The cell below contains the code we used in interactive lecture above. Try editing it to investigate the effects of the following:\n",
    "\n",
    "1. If the ``x_data`` fitted has no errors.\n",
    "2. If the ``x_data`` fitted has no errors or uncertainty (use a small number [i.e. 0.0001] - *Orthogonal Distance Regression Methods* cannot accept 0 uncertainty).\n",
    "3. If the actual uncertainty used to generate errors in the simulated measurements, ``x_data`` and/or ``y_data``, is different to the uncertainty given to the fitting algorithms. Try overestimating and underestimating.\n",
    "4. If uncertainty values vary between points - i.e. not just 0.05 for every point (could try a function like [np.linspace](https://docs.scipy.org/doc/numpy/reference/generated/numpy.linspace.html) or [np.random.rand](https://docs.scipy.org/doc/numpy/reference/generated/numpy.random.rand.html) instead of [np.full](https://docs.scipy.org/doc/numpy/reference/generated/numpy.full.html))."
   ]
  },
  {
   "cell_type": "code",
   "execution_count": null,
   "metadata": {
    "collapsed": false
   },
   "outputs": [],
   "source": [
    "# Define uncertainties\n",
    "u_x = np.full(n_obs, 0.05)\n",
    "u_y = np.full(n_obs, 0.05)\n",
    "\n",
    "# Define number of trials to perform\n",
    "n_trials = 1000\n",
    "\n",
    "# Initialise arrays to store parameter results \n",
    "a_lsqs = np.zeros(n_trials)\n",
    "b_lsqs = np.zeros(n_trials)\n",
    "\n",
    "a_odrs = np.zeros(n_trials)\n",
    "b_odrs = np.zeros(n_trials)\n",
    "\n",
    "y_lsqs = np.zeros((n_trials, n_obs))\n",
    "y_odrs = np.zeros((n_trials, n_obs))\n",
    "\n",
    "for i in range(n_trials):\n",
    "    \n",
    "    # Add errors to true data to generate set of \"measured data\"\n",
    "    x_data_i = add_errors(x_true, u_x)\n",
    "    y_data_i = add_errors(y_true, u_y)\n",
    "    \n",
    "    # Least squares fitting    \n",
    "    p_lsq_i, cov_lsq_i = fit_lsq(measurement_function, x_data_i, y_data_i, u_y, p_initial=[0.0, 0.0])\n",
    "    a_lsqs[i] = p_lsq_i[0]\n",
    "    b_lsqs[i] = p_lsq_i[1]\n",
    "    y_lsqs[i, :] = measurement_function(x_true, a_lsqs[i], b_lsqs[i])\n",
    "    \n",
    "    # ODR fitting\n",
    "    p_odr_i, cov_odr_i = fit_odr(measurement_function_odr, x_data_i, y_data_i, u_x, u_y, p_initial=[0.0, 0.0])\n",
    "    a_odrs[i] = p_odr_i[0]\n",
    "    b_odrs[i] = p_odr_i[1]\n",
    "    y_odrs[i, :] = measurement_function(x_true, a_odrs[i], b_odrs[i])\n",
    "    \n",
    "\n",
    "# Plot results altogether\n",
    "plt.figure(figsize=(8, 12))\n",
    "\n",
    "# a_lsq estimates\n",
    "plt.subplot(3, 2, 1)\n",
    "plt.hist(a_lsqs-a_true, bins=20)\n",
    "plt.title(\"a_lsq - a_true\")\n",
    "plt.xlim([-0.1, 0.1])\n",
    "\n",
    "# a_odr estimates\n",
    "plt.subplot(3, 2, 2)\n",
    "plt.hist(a_odrs-a_true, bins=20)\n",
    "plt.title(\"a_odr - a_true\")\n",
    "plt.xlim([-0.1, 0.1])\n",
    "\n",
    "# b_lsq estimates\n",
    "plt.subplot(3, 2, 3)\n",
    "plt.hist(b_lsqs-b_true, bins=20)\n",
    "plt.title(\"b_lsq - b_true\")\n",
    "plt.xlim([-0.1, 0.1])\n",
    "\n",
    "# b_odr estimates\n",
    "plt.subplot(3, 2, 4)\n",
    "plt.hist(b_odrs-b_true, bins=20)\n",
    "plt.title(\"b_odr - b_true\")\n",
    "plt.xlim([-0.1, 0.1])\n",
    "\n",
    "# y_lsqs[0] estimates\n",
    "plt.subplot(3, 2, 5)\n",
    "plt.hist(y_lsqs[:,0]-y_true[0], bins=20)\n",
    "plt.title(\"y_lsq[0] - y_true[0]\")\n",
    "plt.xlim([-0.05, 0.05])\n",
    "\n",
    "# y_odrs[0] estimates\n",
    "plt.subplot(3, 2, 6)\n",
    "plt.hist(y_odrs[:,0]-y_true[0], bins=20)\n",
    "plt.title(\"y_odr[0] - y_true[0]\")\n",
    "plt.xlim([-0.05, 0.05])"
   ]
  },
  {
   "cell_type": "code",
   "execution_count": null,
   "metadata": {
    "collapsed": true
   },
   "outputs": [],
   "source": []
  }
 ],
 "metadata": {
  "anaconda-cloud": {},
  "kernelspec": {
   "display_name": "Python [Root]",
   "language": "python",
   "name": "Python [Root]"
  },
  "language_info": {
   "codemirror_mode": {
    "name": "ipython",
    "version": 3
   },
   "file_extension": ".py",
   "mimetype": "text/x-python",
   "name": "python",
   "nbconvert_exporter": "python",
   "pygments_lexer": "ipython3",
   "version": "3.5.2"
  }
 },
 "nbformat": 4,
 "nbformat_minor": 1
}
