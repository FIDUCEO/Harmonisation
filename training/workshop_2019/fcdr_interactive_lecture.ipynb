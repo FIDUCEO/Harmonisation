{
 "cells": [
  {
   "cell_type": "markdown",
   "metadata": {},
   "source": [
    "# Interactive Lecture: Using the FIDUCEO easyFCDR\n",
    "\n",
    "In this exercise we will take a look at the FIDUCO easyFCDR - what they contain and how use them in climate variable retrieval propagating the uncertainties.\n",
    "\n",
    "| It is structured as follows:                                                             |\n",
    "| ---------------------------------------------------------------------------------------- |\n",
    "|1. First look at the FIDUCEO easyFCDR file                                                |\n",
    "|2. Use FCDR to perform a crude surface temperature retrieval                              |\n",
    "|3. Propagate the FCDR uncertainty though this processing                                  |\n",
    "| *Extension Exercises*                                                                    |"
   ]
  },
  {
   "cell_type": "markdown",
   "metadata": {},
   "source": [
    "**``First import required python modules``**\n",
    "\n",
    "To run a Python cell in the iPython notebook select it and press [shift] + [Enter]"
   ]
  },
  {
   "cell_type": "code",
   "execution_count": null,
   "metadata": {},
   "outputs": [],
   "source": [
    "import xarray as xr\n",
    "import numpy as np\n",
    "from matplotlib import pyplot as plt"
   ]
  },
  {
   "cell_type": "markdown",
   "metadata": {},
   "source": [
    "## 1. First look at the FIDUCEO easyFCDR file "
   ]
  },
  {
   "cell_type": "markdown",
   "metadata": {},
   "source": [
    "In this lecture, we will take a look at a sample easyFCDR file from the AVHRR (Advanced Very High Resolution Radiometer). The AVHRR is a scanning radiometer instrument observing in 5/6 spectral channels from the visible to the thermal infrared."
   ]
  },
  {
   "cell_type": "markdown",
   "metadata": {},
   "source": [
    "### ``i. Open the sample FCDR file``\n",
    "\n",
    "All the FIDUCEO FCDRs are made up of netCDF files of the same format. The xarray module offers useful functionality for handling netCDF files. Let's use xarray to open a sample AVHRR netCDF file and look at it's contents."
   ]
  },
  {
   "cell_type": "code",
   "execution_count": null,
   "metadata": {},
   "outputs": [],
   "source": [
    "avhrr_fcdr_ds = xr.open_dataset('avhrr_sample_easyFCDR.nc')"
   ]
  },
  {
   "cell_type": "markdown",
   "metadata": {},
   "source": [
    "### ``ii. Inspect FCDR file contents``"
   ]
  },
  {
   "cell_type": "code",
   "execution_count": null,
   "metadata": {},
   "outputs": [],
   "source": [
    "print(avhrr_fcdr_ds)"
   ]
  },
  {
   "cell_type": "markdown",
   "metadata": {},
   "source": [
    "### ``iii. Look at FCDR data``"
   ]
  },
  {
   "cell_type": "markdown",
   "metadata": {},
   "source": [
    "#### a.  Data variables\n",
    "\n",
    "Now let's take a look at the data inside the FCDR. To do this first import a plotting function."
   ]
  },
  {
   "cell_type": "code",
   "execution_count": null,
   "metadata": {},
   "outputs": [],
   "source": [
    "from plotting_functions import plot_lisbon_var"
   ]
  },
  {
   "cell_type": "markdown",
   "metadata": {},
   "source": [
    "Try running/editing the below function to plot:\n",
    "\n",
    "* Brightness temperature measurements from Channel 4 (10.7 $\\mu$m).\n",
    "* Independent uncertainty for measurements from Channel 4\n",
    "* Common temperature measurements from Channel 4\n",
    "* Structured temperature measurements from Channel 4"
   ]
  },
  {
   "cell_type": "code",
   "execution_count": null,
   "metadata": {
    "scrolled": true
   },
   "outputs": [],
   "source": [
    "variable_name = \"Ch4\"\n",
    "plot_lisbon_var(var=avhrr_fcdr_ds[variable_name].values,\n",
    "                lon=avhrr_fcdr_ds[\"longitude\"].values,\n",
    "                lat=avhrr_fcdr_ds[\"latitude\"].values,\n",
    "                label=avhrr_fcdr_ds[variable_name].long_name.title() + \" (\" + avhrr_fcdr_ds[variable_name].units + \")\")"
   ]
  },
  {
   "cell_type": "markdown",
   "metadata": {},
   "source": [
    "#### b. Correlation scales\n",
    "\n",
    "* _Independent Uncertainty_ - The independent errors giving rise to the independent uncertainty are uncorrelated between pixels.\n",
    "\n",
    "\n",
    "\n",
    "* _Common Uncertainty_ - The common errors giving rise to the common uncertainty are fully correlated between pixels for a mission.\n",
    "\n",
    "\n",
    "\n",
    "\n",
    "* _Structured Uncertainty_ - The structured errors that give rise to the structured uncertainty are correlated within on orbit. The extent of the correlation depends on the separation between pixels both along track and across track. This is described by the variables `cross_element_correlation_coefficients` and `cross_line_correlation_coefficients` - let's plot these variables."
   ]
  },
  {
   "cell_type": "code",
   "execution_count": null,
   "metadata": {
    "scrolled": true
   },
   "outputs": [],
   "source": [
    "plt.plot(avhrr_fcdr_ds.cross_element_correlation_coefficients.values[:,4])\n",
    "plt.ylabel(\"Correlation Coefficient\")\n",
    "plt.xlabel(\"Cross Element Pixel Separation\")\n",
    "plt.title(\"Cross Element Correlation for Structured Uncertainty\")\n",
    "plt.show()\n",
    "plt.close('all')"
   ]
  },
  {
   "cell_type": "code",
   "execution_count": null,
   "metadata": {},
   "outputs": [],
   "source": [
    "plt.plot(avhrr_fcdr_ds.cross_line_correlation_coefficients.values[:,4])\n",
    "plt.ylabel(\"Correlation Coefficient\")\n",
    "plt.xlabel(\"Cross Line Pixel Separation\")\n",
    "plt.title(\"Cross Line Correlation for Structured Uncertainty\")\n",
    "plt.show()\n",
    "plt.close('all')"
   ]
  },
  {
   "cell_type": "markdown",
   "metadata": {},
   "source": [
    "#### c. Interchannel correlation\n",
    "\n",
    "Since retrievals typically combine data from multiple channels, understanding how errors are correlated between channels is required to properly propagate uncertainties through this processing. This information is provided in the easyFCDR separately for independent, structured and common uncertainties."
   ]
  },
  {
   "cell_type": "code",
   "execution_count": null,
   "metadata": {},
   "outputs": [],
   "source": [
    "print(\"Channel Correlation Matrix Independent:\")\n",
    "print(avhrr_fcdr_ds.channel_correlation_matrix_independent.values)\n",
    "\n",
    "print(\"\\nChannel Correlation Matrix Structured:\")\n",
    "print(avhrr_fcdr_ds.channel_correlation_matrix_structured.values)\n",
    "\n",
    "print(\"\\nChannel Correlation Matrix Common:\")\n",
    "print(avhrr_fcdr_ds.channel_correlation_matrix_common.values)"
   ]
  },
  {
   "cell_type": "markdown",
   "metadata": {},
   "source": [
    "## 2. Use FCDR to perform a crude surface temperature retrieval"
   ]
  },
  {
   "cell_type": "markdown",
   "metadata": {},
   "source": [
    "A simple approximation of the retrieval equation for surface temperature is:\n",
    "\n",
    "$T = 2 BT_4 - BT_5$\n",
    "\n",
    "Define a function to calculate this and plot the results."
   ]
  },
  {
   "cell_type": "code",
   "execution_count": null,
   "metadata": {},
   "outputs": [],
   "source": [
    "def surf_temp_calc(BT4, BT5):\n",
    "    return 2* BT4 - BT5"
   ]
  },
  {
   "cell_type": "code",
   "execution_count": null,
   "metadata": {},
   "outputs": [],
   "source": [
    "surf_temp = surf_temp_calc(avhrr_fcdr_ds.Ch4.values, avhrr_fcdr_ds.Ch5.values)"
   ]
  },
  {
   "cell_type": "code",
   "execution_count": null,
   "metadata": {},
   "outputs": [],
   "source": [
    "plot_lisbon_var(var=surf_temp,\n",
    "                lon=avhrr_fcdr_ds[\"longitude\"].values,\n",
    "                lat=avhrr_fcdr_ds[\"latitude\"].values,\n",
    "                label=\"Crude Surface Temperature (K)\")"
   ]
  },
  {
   "cell_type": "markdown",
   "metadata": {},
   "source": [
    "## 3. Propagate the FCDR uncertainty though this processing"
   ]
  },
  {
   "cell_type": "markdown",
   "metadata": {},
   "source": [
    "Let's now propagate the L1 per pixel uncertainties through our retrieval algorithm. We'll do this separately for the independent, structured and common uncertainties. In each case the propagation per pixel is as follows:\n",
    "\n",
    "$u_\\mathrm{x}^2(T) = c_1^2 u^2_\\mathrm{x}(BT_4) + c_2^2 u^2_\\mathrm{x}(BT_5) + 2 c_1 c_2 r_{BT_4,BT_5} u_\\mathrm{x}(BT_4) u_\\mathrm{x}(BT_4)$\n",
    "\n",
    "where:\n",
    "\n",
    "* $u_x(BT_4)$ - Uncertainty for given Ch4 pixel - where $\\mathrm{x}$ may be random, structured or common\n",
    "* $u_x(BT_5)$ - Uncertainty for given Ch5 pixel - where $\\mathrm{x}$ may be random, structured or common\n",
    "* $c_1$ - sensitivity coefficient of $T$ to $BT_4$\n",
    "* $c_2$ - sensitivity coefficient of $T$ to $BT_4$\n",
    "* $r_{BT_4,BT_5}$ - interchannel correlation between Ch4 and Ch5\n",
    "\n",
    "\n",
    "Define a function for this.\n",
    "\n",
    "NB: This is only propagating the radiometric L1 uncertinaties to L2, many more sources of uncertainty are added due to uncertainty in the retrieval model itself."
   ]
  },
  {
   "cell_type": "code",
   "execution_count": null,
   "metadata": {},
   "outputs": [],
   "source": [
    "def surf_temp_unc_prop(u_BT4, u_BT5, c_1, c_2, r_BT4_BT5):\n",
    "    return (c_1**2 * u_BT4**2 + c_2**2 * u_BT5**2 + 2 * c_1 * c_2 * r_BT4_BT5 * u_BT4 * u_BT5)**0.5"
   ]
  },
  {
   "cell_type": "markdown",
   "metadata": {},
   "source": [
    "Evaluate sensitivity coefficients:\n",
    "\n",
    "$c_1 = \\frac{\\partial T}{\\partial BT_4} = 2$  \n",
    "$c_2 = \\frac{\\partial T}{\\partial BT_4} = -1$\n",
    "\n",
    "Get interchannel correlation coefficient\n",
    "\n",
    "$r_{BT_4,BT_5} = 0.92579997$ "
   ]
  },
  {
   "cell_type": "code",
   "execution_count": null,
   "metadata": {},
   "outputs": [],
   "source": [
    "surf_temp_sensitivity_BT4 = 2\n",
    "surf_temp_sensitivity_BT5 = -1\n",
    "channel_corr_coeff_independent = 0.0\n",
    "channel_corr_coeff_structured = 0.92579997\n",
    "channel_corr_coeff_common = 0.9999"
   ]
  },
  {
   "cell_type": "markdown",
   "metadata": {},
   "source": [
    "### i. Evaluate the independent uncertainty for the retrieved surface temperature."
   ]
  },
  {
   "cell_type": "code",
   "execution_count": null,
   "metadata": {},
   "outputs": [],
   "source": [
    "u_independent_surf_temp = surf_temp_unc_prop(avhrr_fcdr_ds.u_independent_Ch4,\n",
    "                                             avhrr_fcdr_ds.u_independent_Ch5,\n",
    "                                             surf_temp_sensitivity_BT4,\n",
    "                                             surf_temp_sensitivity_BT5,\n",
    "                                             channel_corr_coeff_independent)"
   ]
  },
  {
   "cell_type": "code",
   "execution_count": null,
   "metadata": {},
   "outputs": [],
   "source": [
    "plot_lisbon_var(var=u_independent_surf_temp,\n",
    "                lon=avhrr_fcdr_ds[\"longitude\"].values,\n",
    "                lat=avhrr_fcdr_ds[\"latitude\"].values,\n",
    "                label=\"Independent Uncertainty of Crude Surface Temperature(K)\")"
   ]
  },
  {
   "cell_type": "markdown",
   "metadata": {},
   "source": [
    "### ii. Evaluate the structured uncertainty for the retrieved surface temperature."
   ]
  },
  {
   "cell_type": "code",
   "execution_count": null,
   "metadata": {},
   "outputs": [],
   "source": [
    "u_structured_surf_temp = surf_temp_unc_prop(avhrr_fcdr_ds.u_structured_Ch4,\n",
    "                                             avhrr_fcdr_ds.u_structured_Ch5,\n",
    "                                             surf_temp_sensitivity_BT4,\n",
    "                                             surf_temp_sensitivity_BT5,\n",
    "                                             channel_corr_coeff_structured)"
   ]
  },
  {
   "cell_type": "code",
   "execution_count": null,
   "metadata": {},
   "outputs": [],
   "source": [
    "plot_lisbon_var(var=u_structured_surf_temp,\n",
    "                lon=avhrr_fcdr_ds[\"longitude\"].values,\n",
    "                lat=avhrr_fcdr_ds[\"latitude\"].values,\n",
    "                label=\"Structured Uncertainty of Crude Surface Temperature (K)\")"
   ]
  },
  {
   "cell_type": "markdown",
   "metadata": {},
   "source": [
    "### iii. Evaluate the common uncertainty for the retrieved surface temperature."
   ]
  },
  {
   "cell_type": "code",
   "execution_count": null,
   "metadata": {},
   "outputs": [],
   "source": [
    "u_common_surf_temp = surf_temp_unc_prop(avhrr_fcdr_ds.u_common_Ch4,\n",
    "                                        avhrr_fcdr_ds.u_common_Ch5,\n",
    "                                        surf_temp_sensitivity_BT4,\n",
    "                                        surf_temp_sensitivity_BT5,\n",
    "                                        channel_corr_coeff_common)"
   ]
  },
  {
   "cell_type": "code",
   "execution_count": null,
   "metadata": {},
   "outputs": [],
   "source": [
    "plot_lisbon_var(var=u_common_surf_temp,\n",
    "                lon=avhrr_fcdr_ds[\"longitude\"].values,\n",
    "                lat=avhrr_fcdr_ds[\"latitude\"].values,\n",
    "                label=\"Common Uncertainty of Crude Surface Temperature (K)\")"
   ]
  },
  {
   "cell_type": "markdown",
   "metadata": {},
   "source": [
    "### iv. Evaluate the total uncertainty for the retrieved surface temperature."
   ]
  },
  {
   "cell_type": "code",
   "execution_count": null,
   "metadata": {},
   "outputs": [],
   "source": [
    "u_total_surf_temp = (u_independent_surf_temp**2 + u_structured_surf_temp**2 + u_common_surf_temp)**0.5"
   ]
  },
  {
   "cell_type": "code",
   "execution_count": null,
   "metadata": {},
   "outputs": [],
   "source": [
    "plot_lisbon_var(var=u_total_surf_temp,\n",
    "                lon=avhrr_fcdr_ds[\"longitude\"].values,\n",
    "                lat=avhrr_fcdr_ds[\"latitude\"].values,\n",
    "                label=\"Total Uncertainty of Crude Surface Temperature (K)\")"
   ]
  },
  {
   "cell_type": "markdown",
   "metadata": {},
   "source": [
    "NB: This is only propagating the radiometric L1 uncertinaties to L2, many more sources of uncertainty are added due to uncertainty in the retrieval model itself."
   ]
  },
  {
   "cell_type": "markdown",
   "metadata": {},
   "source": [
    "## Extension Exercises"
   ]
  },
  {
   "cell_type": "markdown",
   "metadata": {},
   "source": [
    "The cell below contains the code we used in interactive lecture above. Try editing it to try the following:\n",
    "\n",
    "1. A better function for surface temperature is the following:  \n",
    "$T =-1.9 + 3.6 BT_4 - 2.6 BT_5$  \n",
    "Edit the code to use this retrieval instead, propagating the uncertainties.\n",
    "\n",
    "2. Screen for cloud using some thresholds on Ch1 and Ch2, a scene specific threshold can be judged by eye.\n",
    "\n",
    "3. Investigate the effect on the total uncertainty of changing the interchannel error correlation for the different components of uncertainty."
   ]
  },
  {
   "cell_type": "code",
   "execution_count": null,
   "metadata": {},
   "outputs": [],
   "source": [
    "def surf_temp_calc(BT4, BT5):\n",
    "    return -1.9 + 3.6 * BT4 - 2.6 * BT5\n",
    "\n",
    "def surf_temp_unc_prop(u_BT4, u_BT5, c_1, c_2, r_BT4_BT5):\n",
    "    return (c_1**2 * u_BT4**2 + c_2**2 * u_BT5**2 + 2 * c_1 * c_2 * r_BT4_BT5 * u_BT4 * u_BT5)**0.5\n",
    "\n",
    "surf_temp_sensitivity_BT4 = 2\n",
    "surf_temp_sensitivity_BT5 = -1\n",
    "channel_corr_coeff_independent = 0.0\n",
    "channel_corr_coeff_structured = 0.92579997\n",
    "channel_corr_coeff_common = 0.9999\n",
    "\n",
    "surf_temp = surf_temp\n",
    "u_independent_surf_temp = surf_temp_unc_prop(avhrr_fcdr_ds.u_independent_Ch4,\n",
    "                                             avhrr_fcdr_ds.u_independent_Ch5,\n",
    "                                             surf_temp_sensitivity_BT4,\n",
    "                                             surf_temp_sensitivity_BT5,\n",
    "                                             channel_corr_coeff_independent)\n",
    "u_structured_surf_temp = surf_temp_unc_prop(avhrr_fcdr_ds.u_structured_Ch4,\n",
    "                                             avhrr_fcdr_ds.u_structured_Ch5,\n",
    "                                             surf_temp_sensitivity_BT4,\n",
    "                                             surf_temp_sensitivity_BT5,\n",
    "                                             channel_corr_coeff_structured)\n",
    "u_common_surf_temp = surf_temp_unc_prop(avhrr_fcdr_ds.u_common_Ch4,\n",
    "                                        avhrr_fcdr_ds.u_common_Ch5,\n",
    "                                        surf_temp_sensitivity_BT4,\n",
    "                                        surf_temp_sensitivity_BT5,\n",
    "                                        channel_corr_coeff_common)\n",
    "u_total_surf_temp = (u_independent_surf_temp**2 + u_structured_surf_temp**2 + u_common_surf_temp)**0.5\n",
    "\n",
    "\n",
    "plot_lisbon_var(var=u_total_surf_temp,\n",
    "                lon=avhrr_fcdr_ds[\"longitude\"].values,\n",
    "                lat=avhrr_fcdr_ds[\"latitude\"].values,\n",
    "                label=\"Total Uncertainty Crude Surface Temperature (K)\")"
   ]
  }
 ],
 "metadata": {
  "kernelspec": {
   "display_name": "Python 3",
   "language": "python",
   "name": "python3"
  },
  "language_info": {
   "codemirror_mode": {
    "name": "ipython",
    "version": 3
   },
   "file_extension": ".py",
   "mimetype": "text/x-python",
   "name": "python",
   "nbconvert_exporter": "python",
   "pygments_lexer": "ipython3",
   "version": "3.7.1"
  }
 },
 "nbformat": 4,
 "nbformat_minor": 2
}
